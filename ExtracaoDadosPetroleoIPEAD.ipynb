{
  "nbformat": 4,
  "nbformat_minor": 0,
  "metadata": {
    "colab": {
      "provenance": []
    },
    "kernelspec": {
      "name": "python3",
      "display_name": "Python 3"
    },
    "language_info": {
      "name": "python"
    }
  },
  "cells": [
    {
      "cell_type": "code",
      "execution_count": 1,
      "metadata": {
        "id": "6KavwX72YAFC"
      },
      "outputs": [],
      "source": [
        "import pandas as pd"
      ]
    },
    {
      "cell_type": "code",
      "source": [
        "def processar_dados_ipeadata(url: str) -> pd.DataFrame:\n",
        "    try:\n",
        "        tabelas = pd.read_html(url)\n",
        "        dados = tabelas[2]\n",
        "\n",
        "        dados = dados.drop(0)\n",
        "\n",
        "        dados.columns = ['Data', 'Preço']\n",
        "\n",
        "        # Converte a coluna 'Data' para o tipo datetime\n",
        "        dados['Data'] = pd.to_datetime(dados['Data'], format='%d/%m/%Y')\n",
        "\n",
        "        # Converte a coluna 'Preço' para float, tratando os separadores de milhar e decimal\n",
        "        dados['Preço'] = dados['Preço'].str.replace('.', '', regex=False).str.replace(',', '.', regex=False).astype(float)\n",
        "\n",
        "        # Converte os valores de 'Preço' para formato percentual e ajusta para a vírgula como separador decimal\n",
        "        dados['Preço'] = (dados['Preço'] / 100).apply(lambda x: f\"{x:.2f}\".replace('.', ','))\n",
        "\n",
        "        # Ordena a coluna 'Data' de forma ascendente\n",
        "        dados = dados.sort_values(by='Data').reset_index(drop=True)\n",
        "\n",
        "        return dados\n",
        "\n",
        "    except Exception as e:\n",
        "        print(f\"Erro ao processar os dados: {e}\")\n",
        "        return pd.DataFrame()\n",
        "\n",
        "url = \"http://www.ipeadata.gov.br/ExibeSerie.aspx?module=m&serid=1650971490&oper=view\"\n",
        "\n",
        "df = processar_dados_ipeadata(url)\n",
        "print(df.head())\n"
      ],
      "metadata": {
        "colab": {
          "base_uri": "https://localhost:8080/"
        },
        "id": "Rtu32y1gYOw-",
        "outputId": "75b44164-e00a-43c8-886c-c077f0131b6c"
      },
      "execution_count": 13,
      "outputs": [
        {
          "output_type": "stream",
          "name": "stdout",
          "text": [
            "        Data  Preço\n",
            "0 1987-05-20  18,63\n",
            "1 1987-05-21  18,45\n",
            "2 1987-05-22  18,55\n",
            "3 1987-05-25  18,60\n",
            "4 1987-05-26  18,63\n"
          ]
        }
      ]
    },
    {
      "cell_type": "code",
      "source": [
        "print(df.tail())"
      ],
      "metadata": {
        "colab": {
          "base_uri": "https://localhost:8080/"
        },
        "id": "xguLiilwabUf",
        "outputId": "1f7ff1e8-2366-4d7d-c607-ed9929af9176"
      },
      "execution_count": 14,
      "outputs": [
        {
          "output_type": "stream",
          "name": "stdout",
          "text": [
            "            Data  Preço\n",
            "11287 2024-10-29  71,09\n",
            "11288 2024-10-30  73,21\n",
            "11289 2024-10-31  73,25\n",
            "11290 2024-11-01  73,63\n",
            "11291 2024-11-04  74,89\n"
          ]
        }
      ]
    },
    {
      "cell_type": "code",
      "source": [
        "print(df.shape)"
      ],
      "metadata": {
        "colab": {
          "base_uri": "https://localhost:8080/"
        },
        "id": "ENLHInNsZJWd",
        "outputId": "ac433d51-0d55-4e0b-8cfc-b5584bbe8e0b"
      },
      "execution_count": 15,
      "outputs": [
        {
          "output_type": "stream",
          "name": "stdout",
          "text": [
            "(11292, 2)\n"
          ]
        }
      ]
    },
    {
      "cell_type": "code",
      "source": [
        "print(df.info())"
      ],
      "metadata": {
        "colab": {
          "base_uri": "https://localhost:8080/"
        },
        "id": "kfPcIZxoZKIv",
        "outputId": "dca69693-d8e9-485d-8021-b80a71d2a954"
      },
      "execution_count": 16,
      "outputs": [
        {
          "output_type": "stream",
          "name": "stdout",
          "text": [
            "<class 'pandas.core.frame.DataFrame'>\n",
            "RangeIndex: 11292 entries, 0 to 11291\n",
            "Data columns (total 2 columns):\n",
            " #   Column  Non-Null Count  Dtype         \n",
            "---  ------  --------------  -----         \n",
            " 0   Data    11292 non-null  datetime64[ns]\n",
            " 1   Preço   11292 non-null  object        \n",
            "dtypes: datetime64[ns](1), object(1)\n",
            "memory usage: 176.6+ KB\n",
            "None\n"
          ]
        }
      ]
    },
    {
      "cell_type": "code",
      "source": [
        "print(df.describe())"
      ],
      "metadata": {
        "colab": {
          "base_uri": "https://localhost:8080/"
        },
        "id": "m0C7jBh0a1yR",
        "outputId": "60aca7af-af53-4320-a807-8997547ee13f"
      },
      "execution_count": 17,
      "outputs": [
        {
          "output_type": "stream",
          "name": "stdout",
          "text": [
            "                                Data\n",
            "count                          11292\n",
            "mean   2006-10-17 20:03:11.285865984\n",
            "min              1987-05-20 00:00:00\n",
            "25%              1998-07-01 18:00:00\n",
            "50%              2007-05-27 12:00:00\n",
            "75%              2015-03-23 06:00:00\n",
            "max              2024-11-04 00:00:00\n"
          ]
        }
      ]
    },
    {
      "cell_type": "code",
      "source": [
        "print(df.isnull().sum())"
      ],
      "metadata": {
        "colab": {
          "base_uri": "https://localhost:8080/"
        },
        "id": "85IH3kXia66P",
        "outputId": "35b98405-9efd-42ef-8cc1-fd50d748cb09"
      },
      "execution_count": 18,
      "outputs": [
        {
          "output_type": "stream",
          "name": "stdout",
          "text": [
            "Data     0\n",
            "Preço    0\n",
            "dtype: int64\n"
          ]
        }
      ]
    },
    {
      "cell_type": "code",
      "source": [
        "print(df['Preço'].value_counts())"
      ],
      "metadata": {
        "colab": {
          "base_uri": "https://localhost:8080/"
        },
        "id": "c0ZkuxtJa9ND",
        "outputId": "10f7bf05-0b7b-4172-fb44-3a374888cd1a"
      },
      "execution_count": 19,
      "outputs": [
        {
          "output_type": "stream",
          "name": "stdout",
          "text": [
            "Preço\n",
            "18,48    26\n",
            "18,15    22\n",
            "16,85    20\n",
            "18,63    18\n",
            "17,00    18\n",
            "         ..\n",
            "49,51     1\n",
            "47,72     1\n",
            "37,04     1\n",
            "40,02     1\n",
            "73,25     1\n",
            "Name: count, Length: 5303, dtype: int64\n"
          ]
        }
      ]
    },
    {
      "cell_type": "code",
      "source": [
        "print(df.duplicated().sum())"
      ],
      "metadata": {
        "colab": {
          "base_uri": "https://localhost:8080/"
        },
        "id": "RclJKTpabD80",
        "outputId": "02878c9d-d011-4d66-f03c-8bd257639e38"
      },
      "execution_count": 21,
      "outputs": [
        {
          "output_type": "stream",
          "name": "stdout",
          "text": [
            "0\n"
          ]
        }
      ]
    },
    {
      "cell_type": "code",
      "source": [
        "df.to_csv('dados_ipeadata.csv', index=False, sep=';', encoding='utf-8')"
      ],
      "metadata": {
        "id": "Q890vXKLbUcs"
      },
      "execution_count": 23,
      "outputs": []
    }
  ]
}